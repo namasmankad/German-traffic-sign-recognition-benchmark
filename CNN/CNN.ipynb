{
 "cells": [
  {
   "cell_type": "code",
   "execution_count": 1,
   "metadata": {
    "execution": {
     "iopub.execute_input": "2021-12-16T01:43:57.345371Z",
     "iopub.status.busy": "2021-12-16T01:43:57.344743Z",
     "iopub.status.idle": "2021-12-16T01:44:03.843402Z",
     "shell.execute_reply": "2021-12-16T01:44:03.842236Z",
     "shell.execute_reply.started": "2021-12-16T01:43:57.345334Z"
    }
   },
   "outputs": [],
   "source": [
    "import datetime\n",
    "import os\n",
    "import pandas as pd\n",
    "import numpy as np\n",
    "from sklearn.model_selection import train_test_split\n",
    "from sklearn.metrics import accuracy_score\n",
    "import matplotlib.pyplot as plt\n",
    "from tensorflow.keras.models import Sequential\n",
    "from tensorflow.keras.layers import Activation, Dropout, Flatten, Dense, Conv2D, MaxPool2D\n",
    "\n",
    "import tensorflow as tf\n",
    "print(\"TF version: \", tf.__version__)"
   ]
  },
  {
   "cell_type": "code",
   "execution_count": 2,
   "metadata": {
    "execution": {
     "iopub.execute_input": "2021-12-16T01:42:26.451100Z",
     "iopub.status.busy": "2021-12-16T01:42:26.450367Z",
     "iopub.status.idle": "2021-12-16T01:42:26.490138Z",
     "shell.execute_reply": "2021-12-16T01:42:26.488760Z",
     "shell.execute_reply.started": "2021-12-16T01:42:26.451053Z"
    }
   },
   "outputs": [],
   "source": [
    "device_name = tf.test.gpu_device_name()\n",
    "if \"GPU\" not in device_name:\n",
    "    print(\"No\")\n",
    "else:\n",
    "    print(device_name)"
   ]
  },
  {
   "cell_type": "code",
   "execution_count": null,
   "metadata": {},
   "outputs": [],
   "source": [
    "print(tf.test.is_gpu_available())"
   ]
  },
  {
   "cell_type": "code",
   "execution_count": 2,
   "metadata": {
    "_cell_guid": "79c7e3d0-c299-4dcb-8224-4455121ee9b0",
    "_uuid": "d629ff2d2480ee46fbb7e2d37f6b5fab8052498a",
    "execution": {
     "iopub.execute_input": "2021-12-16T01:44:07.192132Z",
     "iopub.status.busy": "2021-12-16T01:44:07.191596Z",
     "iopub.status.idle": "2021-12-16T01:44:07.346814Z",
     "shell.execute_reply": "2021-12-16T01:44:07.345864Z",
     "shell.execute_reply.started": "2021-12-16T01:44:07.192080Z"
    }
   },
   "outputs": [],
   "source": [
    "train_df = pd.read_csv('/kaggle/input/gtsrb-german-traffic-sign/Train.csv')\n",
    "train_df.describe()"
   ]
  },
  {
   "cell_type": "code",
   "execution_count": 3,
   "metadata": {
    "execution": {
     "iopub.execute_input": "2021-12-16T01:44:10.159952Z",
     "iopub.status.busy": "2021-12-16T01:44:10.159578Z",
     "iopub.status.idle": "2021-12-16T01:44:10.176475Z",
     "shell.execute_reply": "2021-12-16T01:44:10.174949Z",
     "shell.execute_reply.started": "2021-12-16T01:44:10.159920Z"
    }
   },
   "outputs": [],
   "source": [
    "train_df = train_df.drop(['Width', 'Height', 'Roi.X1', 'Roi.Y1', 'Roi.X2', 'Roi.Y2'], axis = 1)\n",
    "train_df.head()"
   ]
  },
  {
   "cell_type": "code",
   "execution_count": 4,
   "metadata": {
    "execution": {
     "iopub.execute_input": "2021-12-16T01:49:07.322828Z",
     "iopub.status.busy": "2021-12-16T01:49:07.322443Z",
     "iopub.status.idle": "2021-12-16T01:49:07.753227Z",
     "shell.execute_reply": "2021-12-16T01:49:07.751925Z",
     "shell.execute_reply.started": "2021-12-16T01:49:07.322797Z"
    }
   },
   "outputs": [],
   "source": [
    "train_df['ClassId'].value_counts().plot.bar(figsize=(20, 10))\n",
    "train_df['ClassId'].value_counts().median()"
   ]
  },
  {
   "cell_type": "code",
   "execution_count": 5,
   "metadata": {
    "execution": {
     "iopub.execute_input": "2021-12-16T01:49:13.571997Z",
     "iopub.status.busy": "2021-12-16T01:49:13.571222Z",
     "iopub.status.idle": "2021-12-16T01:49:13.593696Z",
     "shell.execute_reply": "2021-12-16T01:49:13.592931Z",
     "shell.execute_reply.started": "2021-12-16T01:49:13.571929Z"
    }
   },
   "outputs": [],
   "source": [
    "filenames = ['/kaggle/input/gtsrb-german-traffic-sign/' + fname for fname in train_df['Path']]\n",
    "filenames[:10]"
   ]
  },
  {
   "cell_type": "code",
   "execution_count": 6,
   "metadata": {
    "execution": {
     "iopub.execute_input": "2021-12-16T01:51:35.631639Z",
     "iopub.status.busy": "2021-12-16T01:51:35.630963Z",
     "iopub.status.idle": "2021-12-16T01:51:35.639636Z",
     "shell.execute_reply": "2021-12-16T01:51:35.638786Z",
     "shell.execute_reply.started": "2021-12-16T01:51:35.631584Z"
    }
   },
   "outputs": [],
   "source": [
    "labels = train_df['ClassId'].to_numpy()\n",
    "labels"
   ]
  },
  {
   "cell_type": "code",
   "execution_count": 7,
   "metadata": {
    "execution": {
     "iopub.execute_input": "2021-12-16T01:51:37.876722Z",
     "iopub.status.busy": "2021-12-16T01:51:37.876351Z",
     "iopub.status.idle": "2021-12-16T01:51:37.884074Z",
     "shell.execute_reply": "2021-12-16T01:51:37.883066Z",
     "shell.execute_reply.started": "2021-12-16T01:51:37.876686Z"
    }
   },
   "outputs": [],
   "source": [
    "unique_signs = np.unique(labels)\n",
    "len(unique_signs)"
   ]
  },
  {
   "cell_type": "code",
   "execution_count": 8,
   "metadata": {
    "execution": {
     "iopub.execute_input": "2021-12-16T01:51:39.587239Z",
     "iopub.status.busy": "2021-12-16T01:51:39.586843Z",
     "iopub.status.idle": "2021-12-16T01:51:39.600243Z",
     "shell.execute_reply": "2021-12-16T01:51:39.599267Z",
     "shell.execute_reply.started": "2021-12-16T01:51:39.587205Z"
    }
   },
   "outputs": [],
   "source": [
    "labels = tf.keras.utils.to_categorical(labels, 43)\n",
    "labels[0]"
   ]
  },
  {
   "cell_type": "code",
   "execution_count": 9,
   "metadata": {
    "execution": {
     "iopub.execute_input": "2021-12-16T01:54:03.796908Z",
     "iopub.status.busy": "2021-12-16T01:54:03.796300Z",
     "iopub.status.idle": "2021-12-16T01:54:03.803243Z",
     "shell.execute_reply": "2021-12-16T01:54:03.802078Z",
     "shell.execute_reply.started": "2021-12-16T01:54:03.796868Z"
    }
   },
   "outputs": [],
   "source": [
    "len(labels)"
   ]
  },
  {
   "cell_type": "code",
   "execution_count": 10,
   "metadata": {
    "execution": {
     "iopub.execute_input": "2021-12-16T01:54:06.757176Z",
     "iopub.status.busy": "2021-12-16T01:54:06.756399Z",
     "iopub.status.idle": "2021-12-16T01:54:06.809225Z",
     "shell.execute_reply": "2021-12-16T01:54:06.808046Z",
     "shell.execute_reply.started": "2021-12-16T01:54:06.757125Z"
    }
   },
   "outputs": [],
   "source": [
    "X = filenames\n",
    "y = labels\n",
    "\n",
    "X_train, X_val, y_train, y_val = train_test_split(X, y, test_size = 0.2, random_state = 42)\n",
    "len(X_train), len(y_train), len(X_val), len(y_val)"
   ]
  },
  {
   "cell_type": "code",
   "execution_count": 11,
   "metadata": {
    "execution": {
     "iopub.execute_input": "2021-12-16T01:54:09.972107Z",
     "iopub.status.busy": "2021-12-16T01:54:09.971415Z",
     "iopub.status.idle": "2021-12-16T01:54:09.980762Z",
     "shell.execute_reply": "2021-12-16T01:54:09.979553Z",
     "shell.execute_reply.started": "2021-12-16T01:54:09.972056Z"
    }
   },
   "outputs": [],
   "source": [
    "IMG_SIZE = 32\n",
    "def process_image(image_path):\n",
    "    image = tf.io.read_file(image_path)\n",
    "    image = tf.image.decode_png(image, channels=3)\n",
    "    image = tf.image.convert_image_dtype(image, tf.float32)\n",
    "    image = tf.image.resize(image, size=[IMG_SIZE, IMG_SIZE])\n",
    "    return image"
   ]
  },
  {
   "cell_type": "code",
   "execution_count": 12,
   "metadata": {
    "execution": {
     "iopub.execute_input": "2021-12-16T01:54:17.335032Z",
     "iopub.status.busy": "2021-12-16T01:54:17.333692Z",
     "iopub.status.idle": "2021-12-16T01:54:17.342519Z",
     "shell.execute_reply": "2021-12-16T01:54:17.341314Z",
     "shell.execute_reply.started": "2021-12-16T01:54:17.334959Z"
    }
   },
   "outputs": [],
   "source": [
    "def get_image_label (image_path, label):\n",
    "    image = process_image(image_path)\n",
    "    return image, label"
   ]
  },
  {
   "cell_type": "code",
   "execution_count": 13,
   "metadata": {
    "execution": {
     "iopub.execute_input": "2021-12-16T01:54:20.919367Z",
     "iopub.status.busy": "2021-12-16T01:54:20.918995Z",
     "iopub.status.idle": "2021-12-16T01:54:20.935488Z",
     "shell.execute_reply": "2021-12-16T01:54:20.934357Z",
     "shell.execute_reply.started": "2021-12-16T01:54:20.919334Z"
    }
   },
   "outputs": [],
   "source": [
    "BATCH_SIZE = 64\n",
    "\n",
    "def create_data_batches (X, y=None, batch_size=BATCH_SIZE, valid_data=False, test_data=False):\n",
    "    if test_data:\n",
    "        print(\"Creating test data batches...\")\n",
    "        data = tf.data.Dataset.from_tensor_slices((tf.constant(X)))\n",
    "        data_batch = data.map(process_image).batch(BATCH_SIZE)\n",
    "    elif valid_data:\n",
    "        print(\"Creating validation dataset batches...\")\n",
    "        data = tf.data.Dataset.from_tensor_slices((tf.constant(X), tf.constant(y)))\n",
    "        data_batch = data.map(get_image_label).batch(BATCH_SIZE)\n",
    "    else:\n",
    "        print(\"Creating training dataset batches...\")\n",
    "        data = tf.data.Dataset.from_tensor_slices((tf.constant(X), tf.constant(y)))\n",
    "        data = data.shuffle(buffer_size=len(X))\n",
    "        data_batch = data.map(get_image_label).batch(BATCH_SIZE)\n",
    "    return data_batch"
   ]
  },
  {
   "cell_type": "code",
   "execution_count": 14,
   "metadata": {
    "execution": {
     "iopub.execute_input": "2021-12-16T01:54:24.461810Z",
     "iopub.status.busy": "2021-12-16T01:54:24.461422Z",
     "iopub.status.idle": "2021-12-16T01:54:24.778473Z",
     "shell.execute_reply": "2021-12-16T01:54:24.777208Z",
     "shell.execute_reply.started": "2021-12-16T01:54:24.461774Z"
    }
   },
   "outputs": [],
   "source": [
    "train_data = create_data_batches(X_train, y_train)\n",
    "val_data = create_data_batches(X_val, y_val, valid_data=True)"
   ]
  },
  {
   "cell_type": "code",
   "execution_count": 15,
   "metadata": {
    "execution": {
     "iopub.execute_input": "2021-12-16T01:54:51.452415Z",
     "iopub.status.busy": "2021-12-16T01:54:51.451971Z",
     "iopub.status.idle": "2021-12-16T01:54:51.460247Z",
     "shell.execute_reply": "2021-12-16T01:54:51.459061Z",
     "shell.execute_reply.started": "2021-12-16T01:54:51.452380Z"
    }
   },
   "outputs": [],
   "source": [
    "train_data.element_spec, val_data.element_spec"
   ]
  },
  {
   "cell_type": "code",
   "execution_count": 16,
   "metadata": {
    "execution": {
     "iopub.execute_input": "2021-12-16T01:55:02.698526Z",
     "iopub.status.busy": "2021-12-16T01:55:02.698174Z",
     "iopub.status.idle": "2021-12-16T01:55:02.707344Z",
     "shell.execute_reply": "2021-12-16T01:55:02.706247Z",
     "shell.execute_reply.started": "2021-12-16T01:55:02.698493Z"
    }
   },
   "outputs": [],
   "source": [
    "def show_25_images (images, labels):\n",
    "    plt.figure(figsize=(10,10))\n",
    "    for i in range(25):\n",
    "        ax = plt.subplot(5, 5, i+1)\n",
    "        plt.imshow(images[i])\n",
    "        plt.title(unique_signs[labels[i].argmax()])\n",
    "        plt.axis(\"off\")"
   ]
  },
  {
   "cell_type": "code",
   "execution_count": 17,
   "metadata": {
    "execution": {
     "iopub.execute_input": "2021-12-16T01:55:06.331742Z",
     "iopub.status.busy": "2021-12-16T01:55:06.331392Z",
     "iopub.status.idle": "2021-12-16T01:55:08.211034Z",
     "shell.execute_reply": "2021-12-16T01:55:08.210165Z",
     "shell.execute_reply.started": "2021-12-16T01:55:06.331712Z"
    }
   },
   "outputs": [],
   "source": [
    "train_images, train_labels = next(train_data.as_numpy_iterator())\n",
    "show_25_images(train_images, train_labels)"
   ]
  },
  {
   "cell_type": "code",
   "execution_count": 18,
   "metadata": {
    "execution": {
     "iopub.execute_input": "2021-12-16T01:55:11.017644Z",
     "iopub.status.busy": "2021-12-16T01:55:11.017243Z",
     "iopub.status.idle": "2021-12-16T01:55:12.469840Z",
     "shell.execute_reply": "2021-12-16T01:55:12.468806Z",
     "shell.execute_reply.started": "2021-12-16T01:55:11.017608Z"
    }
   },
   "outputs": [],
   "source": [
    "val_images, val_labels = next(val_data.as_numpy_iterator())\n",
    "show_25_images(val_images, val_labels)"
   ]
  },
  {
   "cell_type": "code",
   "execution_count": 19,
   "metadata": {
    "execution": {
     "iopub.execute_input": "2021-12-16T01:56:16.995963Z",
     "iopub.status.busy": "2021-12-16T01:56:16.995506Z",
     "iopub.status.idle": "2021-12-16T01:56:17.001494Z",
     "shell.execute_reply": "2021-12-16T01:56:17.000153Z",
     "shell.execute_reply.started": "2021-12-16T01:56:16.995920Z"
    }
   },
   "outputs": [],
   "source": [
    "INPUT_SHAPE = [IMG_SIZE, IMG_SIZE, 3]\n",
    "OUTPUT_SHAPE = len(unique_signs)"
   ]
  },
  {
   "cell_type": "code",
   "execution_count": 20,
   "metadata": {
    "execution": {
     "iopub.execute_input": "2021-12-16T01:56:20.960681Z",
     "iopub.status.busy": "2021-12-16T01:56:20.960000Z",
     "iopub.status.idle": "2021-12-16T01:56:20.972664Z",
     "shell.execute_reply": "2021-12-16T01:56:20.971807Z",
     "shell.execute_reply.started": "2021-12-16T01:56:20.960640Z"
    }
   },
   "outputs": [],
   "source": [
    "def traffic_sign_net(input_shape):\n",
    "    model = Sequential()\n",
    "    model.add(Conv2D(filters=32, kernel_size=(5, 5), activation='relu', input_shape=input_shape))\n",
    "    model.add(Conv2D(filters=32, kernel_size=(5, 5), activation='relu'))\n",
    "    model.add(MaxPool2D(pool_size=(2, 2)))\n",
    "    model.add(Dropout(rate=0.25))\n",
    "    model.add(Conv2D(filters=64, kernel_size=(3, 3), activation='relu'))\n",
    "    model.add(Conv2D(filters=64, kernel_size=(3, 3), activation='relu'))\n",
    "    model.add(MaxPool2D(pool_size=(2, 2)))\n",
    "    model.add(Dropout(rate=0.25))\n",
    "    model.add(Flatten())\n",
    "    model.add(Dense(256, activation='relu'))\n",
    "    model.add(Dropout(rate=0.5))\n",
    "    model.add(Dense(43, activation='softmax'))\n",
    "    return model"
   ]
  },
  {
   "cell_type": "code",
   "execution_count": 21,
   "metadata": {
    "execution": {
     "iopub.execute_input": "2021-12-16T01:56:25.637821Z",
     "iopub.status.busy": "2021-12-16T01:56:25.637446Z",
     "iopub.status.idle": "2021-12-16T01:56:25.644739Z",
     "shell.execute_reply": "2021-12-16T01:56:25.643434Z",
     "shell.execute_reply.started": "2021-12-16T01:56:25.637787Z"
    }
   },
   "outputs": [],
   "source": [
    "def create_model(input_shape=INPUT_SHAPE, output_shape=OUTPUT_SHAPE):\n",
    "    model = traffic_sign_net(input_shape=input_shape)\n",
    "    print(\"Compiling the model\")\n",
    "    model.compile(\n",
    "        loss = tf.keras.losses.CategoricalCrossentropy(),\n",
    "        optimizer = tf.keras.optimizers.Adam(),\n",
    "        metrics = [\"accuracy\"]\n",
    "    )\n",
    "    return model"
   ]
  },
  {
   "cell_type": "code",
   "execution_count": 22,
   "metadata": {
    "execution": {
     "iopub.execute_input": "2021-12-16T01:56:29.436922Z",
     "iopub.status.busy": "2021-12-16T01:56:29.436352Z",
     "iopub.status.idle": "2021-12-16T01:56:29.587577Z",
     "shell.execute_reply": "2021-12-16T01:56:29.586628Z",
     "shell.execute_reply.started": "2021-12-16T01:56:29.436870Z"
    }
   },
   "outputs": [],
   "source": [
    "model = create_model()\n",
    "model.summary()"
   ]
  },
  {
   "cell_type": "code",
   "execution_count": 23,
   "metadata": {
    "execution": {
     "iopub.execute_input": "2021-12-16T01:56:32.009483Z",
     "iopub.status.busy": "2021-12-16T01:56:32.009087Z",
     "iopub.status.idle": "2021-12-16T01:56:32.016121Z",
     "shell.execute_reply": "2021-12-16T01:56:32.014909Z",
     "shell.execute_reply.started": "2021-12-16T01:56:32.009449Z"
    }
   },
   "outputs": [],
   "source": [
    "early_stopping = tf.keras.callbacks.EarlyStopping(monitor='val_accuracy', patience=5)"
   ]
  },
  {
   "cell_type": "code",
   "execution_count": 38,
   "metadata": {
    "execution": {
     "iopub.execute_input": "2021-12-16T02:49:16.707322Z",
     "iopub.status.busy": "2021-12-16T02:49:16.706871Z",
     "iopub.status.idle": "2021-12-16T02:49:16.712013Z",
     "shell.execute_reply": "2021-12-16T02:49:16.710919Z",
     "shell.execute_reply.started": "2021-12-16T02:49:16.707287Z"
    }
   },
   "outputs": [],
   "source": [
    "NUM_EPOCHS = 10"
   ]
  },
  {
   "cell_type": "code",
   "execution_count": 39,
   "metadata": {
    "execution": {
     "iopub.execute_input": "2021-12-16T02:49:21.038284Z",
     "iopub.status.busy": "2021-12-16T02:49:21.037557Z",
     "iopub.status.idle": "2021-12-16T02:49:21.043587Z",
     "shell.execute_reply": "2021-12-16T02:49:21.042765Z",
     "shell.execute_reply.started": "2021-12-16T02:49:21.038244Z"
    }
   },
   "outputs": [],
   "source": [
    "def train_model():\n",
    "    model = create_model()\n",
    "    model.fit(x=train_data,\n",
    "        epochs=NUM_EPOCHS,\n",
    "        validation_data=val_data,\n",
    "        validation_freq=1,\n",
    "        callbacks=[early_stopping]\n",
    "             )\n",
    "    return model"
   ]
  },
  {
   "cell_type": "code",
   "execution_count": 40,
   "metadata": {
    "execution": {
     "iopub.execute_input": "2021-12-16T02:49:26.745521Z",
     "iopub.status.busy": "2021-12-16T02:49:26.745123Z",
     "iopub.status.idle": "2021-12-16T03:04:43.861949Z",
     "shell.execute_reply": "2021-12-16T03:04:43.860972Z",
     "shell.execute_reply.started": "2021-12-16T02:49:26.745485Z"
    }
   },
   "outputs": [],
   "source": [
    "model = train_model()"
   ]
  },
  {
   "cell_type": "code",
   "execution_count": 41,
   "metadata": {
    "execution": {
     "iopub.execute_input": "2021-12-16T03:06:16.437453Z",
     "iopub.status.busy": "2021-12-16T03:06:16.436857Z",
     "iopub.status.idle": "2021-12-16T03:06:16.474248Z",
     "shell.execute_reply": "2021-12-16T03:06:16.472938Z",
     "shell.execute_reply.started": "2021-12-16T03:06:16.437418Z"
    }
   },
   "outputs": [],
   "source": [
    "test_df = pd.read_csv('/kaggle/input/gtsrb-german-traffic-sign/Test.csv')\n",
    "test_df = test_df.drop(['Width', 'Height', 'Roi.X1', 'Roi.Y1', 'Roi.X2', 'Roi.Y2'], axis=1)\n",
    "test_df.head()"
   ]
  },
  {
   "cell_type": "code",
   "execution_count": 42,
   "metadata": {
    "execution": {
     "iopub.execute_input": "2021-12-16T03:06:19.498966Z",
     "iopub.status.busy": "2021-12-16T03:06:19.498214Z",
     "iopub.status.idle": "2021-12-16T03:06:19.511718Z",
     "shell.execute_reply": "2021-12-16T03:06:19.510741Z",
     "shell.execute_reply.started": "2021-12-16T03:06:19.498911Z"
    }
   },
   "outputs": [],
   "source": [
    "test_img_paths = ['/kaggle/input/gtsrb-german-traffic-sign/' + path for path in test_df['Path']]\n",
    "test_img_paths[:10]"
   ]
  },
  {
   "cell_type": "code",
   "execution_count": 43,
   "metadata": {
    "execution": {
     "iopub.execute_input": "2021-12-16T03:06:21.806151Z",
     "iopub.status.busy": "2021-12-16T03:06:21.805639Z",
     "iopub.status.idle": "2021-12-16T03:06:21.835373Z",
     "shell.execute_reply": "2021-12-16T03:06:21.834456Z",
     "shell.execute_reply.started": "2021-12-16T03:06:21.806113Z"
    }
   },
   "outputs": [],
   "source": [
    "X_test = create_data_batches(test_img_paths, test_data=True)\n",
    "y_test = list(test_df['ClassId'])\n",
    "y_test[:10]"
   ]
  },
  {
   "cell_type": "code",
   "execution_count": 44,
   "metadata": {
    "execution": {
     "iopub.execute_input": "2021-12-16T03:06:23.891669Z",
     "iopub.status.busy": "2021-12-16T03:06:23.891041Z",
     "iopub.status.idle": "2021-12-16T03:06:33.900296Z",
     "shell.execute_reply": "2021-12-16T03:06:33.899099Z",
     "shell.execute_reply.started": "2021-12-16T03:06:23.891632Z"
    }
   },
   "outputs": [],
   "source": [
    "predictions = model.predict(X_test, verbose=1)"
   ]
  },
  {
   "cell_type": "code",
   "execution_count": 45,
   "metadata": {
    "execution": {
     "iopub.execute_input": "2021-12-16T03:06:36.274052Z",
     "iopub.status.busy": "2021-12-16T03:06:36.273688Z",
     "iopub.status.idle": "2021-12-16T03:06:36.279487Z",
     "shell.execute_reply": "2021-12-16T03:06:36.278288Z",
     "shell.execute_reply.started": "2021-12-16T03:06:36.274017Z"
    }
   },
   "outputs": [],
   "source": [
    "def get_pred_label(prediction_probabilities):\n",
    "    return unique_signs[np.argmax(prediction_probabilities)]"
   ]
  },
  {
   "cell_type": "code",
   "execution_count": 46,
   "metadata": {
    "execution": {
     "iopub.execute_input": "2021-12-16T03:06:40.425060Z",
     "iopub.status.busy": "2021-12-16T03:06:40.424361Z",
     "iopub.status.idle": "2021-12-16T03:06:40.489170Z",
     "shell.execute_reply": "2021-12-16T03:06:40.488039Z",
     "shell.execute_reply.started": "2021-12-16T03:06:40.425005Z"
    }
   },
   "outputs": [],
   "source": [
    "pred_labels = []\n",
    "for i in predictions:\n",
    "    pred_labels.append(get_pred_label(i))\n",
    "pred_labels[:10]"
   ]
  },
  {
   "cell_type": "code",
   "execution_count": 50,
   "metadata": {
    "execution": {
     "iopub.execute_input": "2021-12-16T03:11:29.022625Z",
     "iopub.status.busy": "2021-12-16T03:11:29.021899Z",
     "iopub.status.idle": "2021-12-16T03:11:29.046628Z",
     "shell.execute_reply": "2021-12-16T03:11:29.045118Z",
     "shell.execute_reply.started": "2021-12-16T03:11:29.022567Z"
    }
   },
   "outputs": [],
   "source": [
    "acc = accuracy_score(y_test, pred_labels)\n",
    "acc"
   ]
  }
 ],
 "metadata": {
  "kernelspec": {
   "display_name": "Python 3",
   "language": "python",
   "name": "python3"
  },
  "language_info": {
   "codemirror_mode": {
    "name": "ipython",
    "version": 3
   },
   "file_extension": ".py",
   "mimetype": "text/x-python",
   "name": "python",
   "nbconvert_exporter": "python",
   "pygments_lexer": "ipython3",
   "version": "3.8.5"
  }
 },
 "nbformat": 4,
 "nbformat_minor": 4
}
